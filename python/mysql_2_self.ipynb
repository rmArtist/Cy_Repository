{
 "cells": [
  {
   "cell_type": "code",
   "execution_count": 1,
   "id": "9e6750db",
   "metadata": {
    "ExecuteTime": {
     "end_time": "2024-03-31T02:27:28.393222Z",
     "start_time": "2024-03-31T02:27:12.211028Z"
    }
   },
   "outputs": [
    {
     "name": "stderr",
     "output_type": "stream",
     "text": [
      "/opt/modules/spark-3.2.1-bin-hadoop3.2/python/pyspark/context.py:238: FutureWarning: Python 3.6 support is deprecated in Spark 3.2.\n",
      "  FutureWarning\n"
     ]
    }
   ],
   "source": [
    "import findspark\n",
    "findspark.init()\n",
    "from pyspark.sql import SparkSession\n",
    "\n",
    "spark = SparkSession.builder \\\n",
    "    .appName(\"mysql_2_self\") \\\n",
    "    .config(\"spark.jars\", \"/opt/softwares/mysql-connector-java-5.1.37.jar\") \\\n",
    "    .getOrCreate()\n",
    "url = \"jdbc:mysql://centos01:3306/spark_db\"\n",
    "properties = {\n",
    "    \"user\": \"root\",\n",
    "    \"password\": \"123456\"\n",
    "}\n",
    "df = spark.read.jdbc(url=url, table=\"student\", properties=properties)"
   ]
  },
  {
   "cell_type": "code",
   "execution_count": 2,
   "id": "09f763ff",
   "metadata": {
    "ExecuteTime": {
     "end_time": "2024-03-31T02:27:37.556987Z",
     "start_time": "2024-03-31T02:27:31.139252Z"
    }
   },
   "outputs": [
    {
     "name": "stdout",
     "output_type": "stream",
     "text": [
      "+---+-------+---+\n",
      "| id|   name|age|\n",
      "+---+-------+---+\n",
      "|  1|zhansan| 23|\n",
      "|  2|   lisi| 19|\n",
      "|  3| wangwu| 25|\n",
      "+---+-------+---+\n",
      "\n"
     ]
    }
   ],
   "source": [
    "df.show()"
   ]
  },
  {
   "cell_type": "code",
   "execution_count": 3,
   "id": "a875d236",
   "metadata": {
    "ExecuteTime": {
     "end_time": "2024-03-31T02:27:41.118440Z",
     "start_time": "2024-03-31T02:27:41.104926Z"
    }
   },
   "outputs": [
    {
     "name": "stdout",
     "output_type": "stream",
     "text": [
      "root\n",
      " |-- id: integer (nullable = true)\n",
      " |-- name: string (nullable = true)\n",
      " |-- age: integer (nullable = true)\n",
      "\n"
     ]
    }
   ],
   "source": [
    "df.printSchema()"
   ]
  },
  {
   "cell_type": "code",
   "execution_count": 15,
   "id": "816d8dd4",
   "metadata": {
    "ExecuteTime": {
     "end_time": "2024-03-31T02:38:17.242202Z",
     "start_time": "2024-03-31T02:38:17.210440Z"
    }
   },
   "outputs": [],
   "source": [
    "df1 = df.filter(df.id == 1)"
   ]
  },
  {
   "cell_type": "code",
   "execution_count": 17,
   "id": "78834e19",
   "metadata": {
    "ExecuteTime": {
     "end_time": "2024-03-31T02:38:46.383093Z",
     "start_time": "2024-03-31T02:38:42.625407Z"
    }
   },
   "outputs": [],
   "source": [
    "df1.write.jdbc(url=url, table=\"student_1\",mode=\"overwrite\",properties=properties)"
   ]
  },
  {
   "cell_type": "code",
   "execution_count": 19,
   "id": "62fb4abd",
   "metadata": {
    "ExecuteTime": {
     "end_time": "2024-03-31T02:39:10.910898Z",
     "start_time": "2024-03-31T02:39:10.590226Z"
    }
   },
   "outputs": [
    {
     "name": "stdout",
     "output_type": "stream",
     "text": [
      "+---+-------+---+\n",
      "| id|   name|age|\n",
      "+---+-------+---+\n",
      "|  1|zhansan| 23|\n",
      "+---+-------+---+\n",
      "\n"
     ]
    }
   ],
   "source": [
    "df1.show()"
   ]
  },
  {
   "cell_type": "code",
   "execution_count": null,
   "id": "8898004c",
   "metadata": {},
   "outputs": [],
   "source": []
  },
  {
   "cell_type": "code",
   "execution_count": null,
   "id": "1c324d3c",
   "metadata": {},
   "outputs": [],
   "source": []
  },
  {
   "cell_type": "code",
   "execution_count": null,
   "id": "afd73864",
   "metadata": {},
   "outputs": [],
   "source": []
  },
  {
   "cell_type": "code",
   "execution_count": null,
   "id": "5f0c9c19",
   "metadata": {},
   "outputs": [],
   "source": []
  },
  {
   "cell_type": "code",
   "execution_count": null,
   "id": "ebb63a3e",
   "metadata": {},
   "outputs": [],
   "source": []
  },
  {
   "cell_type": "code",
   "execution_count": null,
   "id": "4d5a618e",
   "metadata": {},
   "outputs": [],
   "source": []
  }
 ],
 "metadata": {
  "kernelspec": {
   "display_name": "Python 3",
   "language": "python",
   "name": "python3"
  },
  "language_info": {
   "codemirror_mode": {
    "name": "ipython",
    "version": 3
   },
   "file_extension": ".py",
   "mimetype": "text/x-python",
   "name": "python",
   "nbconvert_exporter": "python",
   "pygments_lexer": "ipython3",
   "version": "3.6.8"
  },
  "toc": {
   "base_numbering": 1,
   "nav_menu": {},
   "number_sections": true,
   "sideBar": true,
   "skip_h1_title": false,
   "title_cell": "Table of Contents",
   "title_sidebar": "Contents",
   "toc_cell": false,
   "toc_position": {},
   "toc_section_display": true,
   "toc_window_display": false
  },
  "varInspector": {
   "cols": {
    "lenName": 16,
    "lenType": 16,
    "lenVar": 40
   },
   "kernels_config": {
    "python": {
     "delete_cmd_postfix": "",
     "delete_cmd_prefix": "del ",
     "library": "var_list.py",
     "varRefreshCmd": "print(var_dic_list())"
    },
    "r": {
     "delete_cmd_postfix": ") ",
     "delete_cmd_prefix": "rm(",
     "library": "var_list.r",
     "varRefreshCmd": "cat(var_dic_list()) "
    }
   },
   "types_to_exclude": [
    "module",
    "function",
    "builtin_function_or_method",
    "instance",
    "_Feature"
   ],
   "window_display": false
  }
 },
 "nbformat": 4,
 "nbformat_minor": 5
}
